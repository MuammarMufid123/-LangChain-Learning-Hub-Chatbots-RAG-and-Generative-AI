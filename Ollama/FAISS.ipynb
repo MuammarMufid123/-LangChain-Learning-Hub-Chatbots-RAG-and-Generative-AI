{
 "cells": [
  {
   "cell_type": "code",
   "execution_count": 6,
   "id": "6bcfeb87",
   "metadata": {},
   "outputs": [
    {
     "name": "stdout",
     "output_type": "stream",
     "text": [
      "{'encoding': 'utf-8', 'confidence': 0.99, 'language': ''}\n"
     ]
    }
   ],
   "source": [
    "import chardet\n",
    "\n",
    "with open(\"speech.txt\", \"rb\") as f:\n",
    "    raw = f.read()\n",
    "print(chardet.detect(raw))\n"
   ]
  },
  {
   "cell_type": "code",
   "execution_count": 1,
   "id": "fb6e9ce3",
   "metadata": {},
   "outputs": [
    {
     "name": "stderr",
     "output_type": "stream",
     "text": [
      "Created a chunk of size 443, which is longer than the specified 200\n",
      "Created a chunk of size 330, which is longer than the specified 200\n",
      "Created a chunk of size 316, which is longer than the specified 200\n",
      "Created a chunk of size 339, which is longer than the specified 200\n",
      "Created a chunk of size 298, which is longer than the specified 200\n"
     ]
    }
   ],
   "source": [
    "from langchain_community.document_loaders import TextLoader\n",
    "from langchain_community.vectorstores import FAISS\n",
    "from langchain_community.embeddings import OllamaEmbeddings\n",
    "from langchain_text_splitters import CharacterTextSplitter\n",
    "\n",
    "loader=TextLoader(\"speech.txt\", encoding='utf-8')\n",
    "documents=loader.load()\n",
    "text_splitter=CharacterTextSplitter(chunk_size=200, chunk_overlap=30)\n",
    "docs=text_splitter.split_documents(documents)"
   ]
  },
  {
   "cell_type": "code",
   "execution_count": 2,
   "id": "79623b12",
   "metadata": {},
   "outputs": [
    {
     "data": {
      "text/plain": [
       "[Document(metadata={'source': 'speech.txt'}, page_content='Today, we stand at the threshold of a new era in artificial intelligence—one defined not by passive assistants that wait for our commands, but by proactive agents that think ahead, learn our preferences, and execute complex tasks on our behalf. At Google I/O 2025, Sundar Pichai and his team unveiled a sweeping vision for these “agentic” AI capabilities, signaling that traditional search and simple chatbots are soon to be relics of the past'),\n",
       " Document(metadata={'source': 'speech.txt'}, page_content='One of the marquee announcements was Agent Mode in the Gemini app, a paradigm shift from reactive to directive AI. Instead of merely answering your questions, Gemini can now autonomously plan your day, book meetings, and coordinate multi-step projects—all tailored to your personal data housed in Gmail, Calendar, Maps, and beyond'),\n",
       " Document(metadata={'source': 'speech.txt'}, page_content='Complementing Agent Mode is Project Mariner, Google’s experimental web-browsing AI agent. Mariner can visit dozens of websites in parallel, synthesize information, and deliver concise, actionable insights—whether you’re researching market trends or troubleshooting a technical issue—saving you hours of manual search'),\n",
       " Document(metadata={'source': 'speech.txt'}, page_content='Underpinning these capabilities is the Deep Research agent, which aggregates data not just from the public web but from your own Google Drive and Gmail. By personalizing research reports to your specific context—be it professional analysis or academic study—Deep Research ensures the answers you receive are both timely and deeply relevant'),\n",
       " Document(metadata={'source': 'speech.txt'}, page_content='Google is also integrating these agents directly into Search with a new AI Mode, transforming the classic list-of-links experience into a conversational interface. Users who opt in can enjoy more personalized, context-aware results that anticipate follow-up questions and streamline decision-making'),\n",
       " Document(metadata={'source': 'speech.txt'}, page_content='In closing, Google’s new agent AI initiative represents more than incremental improvements—it’s a fundamental reimagining of how we interact with technology. By shifting from reactive queries to proactive, goal-driven assistance, Google is empowering individuals and organizations to achieve more with less effort. As these agents become ever more capable and integrated into our digital lives, the possibilities for innovation are limitless. Thank you.')]"
      ]
     },
     "execution_count": 2,
     "metadata": {},
     "output_type": "execute_result"
    }
   ],
   "source": [
    "docs"
   ]
  },
  {
   "cell_type": "code",
   "execution_count": 3,
   "id": "1646a4cf",
   "metadata": {},
   "outputs": [
    {
     "name": "stderr",
     "output_type": "stream",
     "text": [
      "C:\\Users\\ACER\\AppData\\Local\\Temp\\ipykernel_31664\\304044539.py:1: LangChainDeprecationWarning: The class `OllamaEmbeddings` was deprecated in LangChain 0.3.1 and will be removed in 1.0.0. An updated version of the class exists in the :class:`~langchain-ollama package and should be used instead. To use it run `pip install -U :class:`~langchain-ollama` and import as `from :class:`~langchain_ollama import OllamaEmbeddings``.\n",
      "  embeddings=OllamaEmbeddings(model=\"llama2:7b\")\n"
     ]
    },
    {
     "data": {
      "text/plain": [
       "<langchain_community.vectorstores.faiss.FAISS at 0x262dc61c6d0>"
      ]
     },
     "execution_count": 3,
     "metadata": {},
     "output_type": "execute_result"
    }
   ],
   "source": [
    "embeddings=OllamaEmbeddings(model=\"llama2:7b\")\n",
    "db=FAISS.from_documents(docs, embeddings)\n",
    "db"
   ]
  },
  {
   "cell_type": "code",
   "execution_count": 4,
   "id": "bdb54421",
   "metadata": {},
   "outputs": [
    {
     "data": {
      "text/plain": [
       "[Document(id='87ee1e2f-f4e9-41a0-a17c-9ce5a76fc7ba', metadata={'source': 'speech.txt'}, page_content='Complementing Agent Mode is Project Mariner, Google’s experimental web-browsing AI agent. Mariner can visit dozens of websites in parallel, synthesize information, and deliver concise, actionable insights—whether you’re researching market trends or troubleshooting a technical issue—saving you hours of manual search'),\n",
       " Document(id='7f79e636-ddc5-41a7-ae57-4d9649a3d112', metadata={'source': 'speech.txt'}, page_content='In closing, Google’s new agent AI initiative represents more than incremental improvements—it’s a fundamental reimagining of how we interact with technology. By shifting from reactive queries to proactive, goal-driven assistance, Google is empowering individuals and organizations to achieve more with less effort. As these agents become ever more capable and integrated into our digital lives, the possibilities for innovation are limitless. Thank you.'),\n",
       " Document(id='7095dbe3-1e31-4299-8586-20130f547af8', metadata={'source': 'speech.txt'}, page_content='Google is also integrating these agents directly into Search with a new AI Mode, transforming the classic list-of-links experience into a conversational interface. Users who opt in can enjoy more personalized, context-aware results that anticipate follow-up questions and streamline decision-making'),\n",
       " Document(id='e042f8b2-5993-4e46-bd1c-0226eb27d73f', metadata={'source': 'speech.txt'}, page_content='Today, we stand at the threshold of a new era in artificial intelligence—one defined not by passive assistants that wait for our commands, but by proactive agents that think ahead, learn our preferences, and execute complex tasks on our behalf. At Google I/O 2025, Sundar Pichai and his team unveiled a sweeping vision for these “agentic” AI capabilities, signaling that traditional search and simple chatbots are soon to be relics of the past')]"
      ]
     },
     "execution_count": 4,
     "metadata": {},
     "output_type": "execute_result"
    }
   ],
   "source": [
    "### querying\n",
    "query=\"Describe Project Mariner’s capabilities and use cases as explained in the speech.\"\n",
    "docs=db.similarity_search(query)\n",
    "docs\n"
   ]
  },
  {
   "cell_type": "code",
   "execution_count": 14,
   "id": "8a9d84a1",
   "metadata": {},
   "outputs": [
    {
     "data": {
      "text/plain": [
       "'Complementing Agent Mode is Project Mariner, Google’s experimental web-browsing AI agent. Mariner can visit dozens of websites in parallel, synthesize information, and deliver concise, actionable insights—whether you’re researching market trends or troubleshooting a technical issue—saving you hours of manual search'"
      ]
     },
     "execution_count": 14,
     "metadata": {},
     "output_type": "execute_result"
    }
   ],
   "source": [
    "docs[0].page_content"
   ]
  },
  {
   "cell_type": "code",
   "execution_count": 15,
   "id": "a8001f3b",
   "metadata": {},
   "outputs": [],
   "source": [
    "##Retriever"
   ]
  },
  {
   "cell_type": "code",
   "execution_count": 16,
   "id": "701dcfa8",
   "metadata": {},
   "outputs": [],
   "source": [
    "retriever=db.as_retriever()"
   ]
  },
  {
   "cell_type": "code",
   "execution_count": 17,
   "id": "da86b144",
   "metadata": {},
   "outputs": [
    {
     "data": {
      "text/plain": [
       "[Document(id='afaded0b-de5f-4016-8fd3-5bcb9fc7ea81', metadata={'source': 'speech.txt'}, page_content='Complementing Agent Mode is Project Mariner, Google’s experimental web-browsing AI agent. Mariner can visit dozens of websites in parallel, synthesize information, and deliver concise, actionable insights—whether you’re researching market trends or troubleshooting a technical issue—saving you hours of manual search'),\n",
       " Document(id='877f7345-19a1-473b-bd65-4bd2adaf3f3b', metadata={'source': 'speech.txt'}, page_content='In closing, Google’s new agent AI initiative represents more than incremental improvements—it’s a fundamental reimagining of how we interact with technology. By shifting from reactive queries to proactive, goal-driven assistance, Google is empowering individuals and organizations to achieve more with less effort. As these agents become ever more capable and integrated into our digital lives, the possibilities for innovation are limitless. Thank you.'),\n",
       " Document(id='ed3ce999-24e4-4727-a0cb-4dd7b7bb198a', metadata={'source': 'speech.txt'}, page_content='Google is also integrating these agents directly into Search with a new AI Mode, transforming the classic list-of-links experience into a conversational interface. Users who opt in can enjoy more personalized, context-aware results that anticipate follow-up questions and streamline decision-making'),\n",
       " Document(id='3be25b1b-02e1-4bfb-8377-e88ea314abd0', metadata={'source': 'speech.txt'}, page_content='Today, we stand at the threshold of a new era in artificial intelligence—one defined not by passive assistants that wait for our commands, but by proactive agents that think ahead, learn our preferences, and execute complex tasks on our behalf. At Google I/O 2025, Sundar Pichai and his team unveiled a sweeping vision for these “agentic” AI capabilities, signaling that traditional search and simple chatbots are soon to be relics of the past')]"
      ]
     },
     "execution_count": 17,
     "metadata": {},
     "output_type": "execute_result"
    }
   ],
   "source": [
    "retriever.invoke(query)"
   ]
  },
  {
   "cell_type": "code",
   "execution_count": 18,
   "id": "c82f6768",
   "metadata": {},
   "outputs": [
    {
     "data": {
      "text/plain": [
       "[(Document(id='afaded0b-de5f-4016-8fd3-5bcb9fc7ea81', metadata={'source': 'speech.txt'}, page_content='Complementing Agent Mode is Project Mariner, Google’s experimental web-browsing AI agent. Mariner can visit dozens of websites in parallel, synthesize information, and deliver concise, actionable insights—whether you’re researching market trends or troubleshooting a technical issue—saving you hours of manual search'),\n",
       "  25508.309),\n",
       " (Document(id='877f7345-19a1-473b-bd65-4bd2adaf3f3b', metadata={'source': 'speech.txt'}, page_content='In closing, Google’s new agent AI initiative represents more than incremental improvements—it’s a fundamental reimagining of how we interact with technology. By shifting from reactive queries to proactive, goal-driven assistance, Google is empowering individuals and organizations to achieve more with less effort. As these agents become ever more capable and integrated into our digital lives, the possibilities for innovation are limitless. Thank you.'),\n",
       "  25787.299),\n",
       " (Document(id='ed3ce999-24e4-4727-a0cb-4dd7b7bb198a', metadata={'source': 'speech.txt'}, page_content='Google is also integrating these agents directly into Search with a new AI Mode, transforming the classic list-of-links experience into a conversational interface. Users who opt in can enjoy more personalized, context-aware results that anticipate follow-up questions and streamline decision-making'),\n",
       "  25857.889),\n",
       " (Document(id='3be25b1b-02e1-4bfb-8377-e88ea314abd0', metadata={'source': 'speech.txt'}, page_content='Today, we stand at the threshold of a new era in artificial intelligence—one defined not by passive assistants that wait for our commands, but by proactive agents that think ahead, learn our preferences, and execute complex tasks on our behalf. At Google I/O 2025, Sundar Pichai and his team unveiled a sweeping vision for these “agentic” AI capabilities, signaling that traditional search and simple chatbots are soon to be relics of the past'),\n",
       "  26215.883)]"
      ]
     },
     "execution_count": 18,
     "metadata": {},
     "output_type": "execute_result"
    }
   ],
   "source": [
    "### similarity search with score\n",
    "docs_and_score=db.similarity_search_with_score(query)\n",
    "docs_and_score"
   ]
  },
  {
   "cell_type": "code",
   "execution_count": 19,
   "id": "14686643",
   "metadata": {},
   "outputs": [
    {
     "data": {
      "text/plain": [
       "'Describe Project Mariner’s capabilities and use cases as explained in the speech.'"
      ]
     },
     "execution_count": 19,
     "metadata": {},
     "output_type": "execute_result"
    }
   ],
   "source": [
    "embedding_vector=embeddings.embed_query(query)\n",
    "query"
   ]
  },
  {
   "cell_type": "code",
   "execution_count": 24,
   "id": "aae3a581",
   "metadata": {},
   "outputs": [
    {
     "data": {
      "text/plain": [
       "[Document(id='afaded0b-de5f-4016-8fd3-5bcb9fc7ea81', metadata={'source': 'speech.txt'}, page_content='Complementing Agent Mode is Project Mariner, Google’s experimental web-browsing AI agent. Mariner can visit dozens of websites in parallel, synthesize information, and deliver concise, actionable insights—whether you’re researching market trends or troubleshooting a technical issue—saving you hours of manual search'),\n",
       " Document(id='877f7345-19a1-473b-bd65-4bd2adaf3f3b', metadata={'source': 'speech.txt'}, page_content='In closing, Google’s new agent AI initiative represents more than incremental improvements—it’s a fundamental reimagining of how we interact with technology. By shifting from reactive queries to proactive, goal-driven assistance, Google is empowering individuals and organizations to achieve more with less effort. As these agents become ever more capable and integrated into our digital lives, the possibilities for innovation are limitless. Thank you.'),\n",
       " Document(id='ed3ce999-24e4-4727-a0cb-4dd7b7bb198a', metadata={'source': 'speech.txt'}, page_content='Google is also integrating these agents directly into Search with a new AI Mode, transforming the classic list-of-links experience into a conversational interface. Users who opt in can enjoy more personalized, context-aware results that anticipate follow-up questions and streamline decision-making'),\n",
       " Document(id='3be25b1b-02e1-4bfb-8377-e88ea314abd0', metadata={'source': 'speech.txt'}, page_content='Today, we stand at the threshold of a new era in artificial intelligence—one defined not by passive assistants that wait for our commands, but by proactive agents that think ahead, learn our preferences, and execute complex tasks on our behalf. At Google I/O 2025, Sundar Pichai and his team unveiled a sweeping vision for these “agentic” AI capabilities, signaling that traditional search and simple chatbots are soon to be relics of the past')]"
      ]
     },
     "execution_count": 24,
     "metadata": {},
     "output_type": "execute_result"
    }
   ],
   "source": [
    "docs_score=db.similarity_search_by_vector(embedding_vector)\n",
    "docs_score"
   ]
  },
  {
   "cell_type": "code",
   "execution_count": 25,
   "id": "b3673da8",
   "metadata": {},
   "outputs": [],
   "source": [
    "###saving and load"
   ]
  },
  {
   "cell_type": "code",
   "execution_count": 26,
   "id": "b3f4a877",
   "metadata": {},
   "outputs": [],
   "source": [
    "db.save_local(\"faiss_index\")"
   ]
  },
  {
   "cell_type": "code",
   "execution_count": 28,
   "id": "2b251a71",
   "metadata": {},
   "outputs": [],
   "source": [
    "new_df=FAISS.load_local(\"faiss_index\", embeddings, allow_dangerous_deserialization=True)\n",
    "docs=new_df.similarity_search(query)"
   ]
  },
  {
   "cell_type": "code",
   "execution_count": 29,
   "id": "72031772",
   "metadata": {},
   "outputs": [
    {
     "data": {
      "text/plain": [
       "[Document(id='afaded0b-de5f-4016-8fd3-5bcb9fc7ea81', metadata={'source': 'speech.txt'}, page_content='Complementing Agent Mode is Project Mariner, Google’s experimental web-browsing AI agent. Mariner can visit dozens of websites in parallel, synthesize information, and deliver concise, actionable insights—whether you’re researching market trends or troubleshooting a technical issue—saving you hours of manual search'),\n",
       " Document(id='877f7345-19a1-473b-bd65-4bd2adaf3f3b', metadata={'source': 'speech.txt'}, page_content='In closing, Google’s new agent AI initiative represents more than incremental improvements—it’s a fundamental reimagining of how we interact with technology. By shifting from reactive queries to proactive, goal-driven assistance, Google is empowering individuals and organizations to achieve more with less effort. As these agents become ever more capable and integrated into our digital lives, the possibilities for innovation are limitless. Thank you.'),\n",
       " Document(id='ed3ce999-24e4-4727-a0cb-4dd7b7bb198a', metadata={'source': 'speech.txt'}, page_content='Google is also integrating these agents directly into Search with a new AI Mode, transforming the classic list-of-links experience into a conversational interface. Users who opt in can enjoy more personalized, context-aware results that anticipate follow-up questions and streamline decision-making'),\n",
       " Document(id='3be25b1b-02e1-4bfb-8377-e88ea314abd0', metadata={'source': 'speech.txt'}, page_content='Today, we stand at the threshold of a new era in artificial intelligence—one defined not by passive assistants that wait for our commands, but by proactive agents that think ahead, learn our preferences, and execute complex tasks on our behalf. At Google I/O 2025, Sundar Pichai and his team unveiled a sweeping vision for these “agentic” AI capabilities, signaling that traditional search and simple chatbots are soon to be relics of the past')]"
      ]
     },
     "execution_count": 29,
     "metadata": {},
     "output_type": "execute_result"
    }
   ],
   "source": [
    "docs"
   ]
  },
  {
   "cell_type": "code",
   "execution_count": null,
   "id": "cee4119a",
   "metadata": {},
   "outputs": [],
   "source": []
  }
 ],
 "metadata": {
  "kernelspec": {
   "display_name": "Python 3",
   "language": "python",
   "name": "python3"
  },
  "language_info": {
   "codemirror_mode": {
    "name": "ipython",
    "version": 3
   },
   "file_extension": ".py",
   "mimetype": "text/x-python",
   "name": "python",
   "nbconvert_exporter": "python",
   "pygments_lexer": "ipython3",
   "version": "3.10.2"
  }
 },
 "nbformat": 4,
 "nbformat_minor": 5
}
