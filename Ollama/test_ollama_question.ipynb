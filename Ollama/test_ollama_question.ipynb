{
 "cells": [
  {
   "cell_type": "code",
   "execution_count": 5,
   "id": "7649885c",
   "metadata": {},
   "outputs": [],
   "source": [
    "# Option A (most common in recent LangChain releases)\n",
    "from langchain.llms.ollama import Ollama\n",
    "\n",
    "# Option B (some builds expose it under the llms package)\n",
    "from langchain.llms import Ollama\n"
   ]
  },
  {
   "cell_type": "code",
   "execution_count": 9,
   "id": "b2978945",
   "metadata": {},
   "outputs": [
    {
     "name": "stdout",
     "output_type": "stream",
     "text": [
      "\n",
      "Ah, a fellow enthusiast! Generative AI is a fascinating field that has the potential to revolutionize many industries. As an expert AI engineer, I'd be delighted to explain what generative AI is and its applications.\n",
      "\n",
      "Generative AI refers to a type of artificial intelligence that can generate novel, creative content such as images, videos, music, text, or even entire conversations. This is achieved through complex algorithms that learn patterns within the input data and then create new data that resembles the original but is not simply a copy. Think of it like a creative AI artist that can paint a masterpiece based on a reference image!\n",
      "\n",
      "Generative AI models are based on machine learning techniques, such as generative adversarial networks (GANs), variational autoencoders (VAEs), and recurrent neural networks (RNNs). These models learn to generate new data by sampling from a learned distribution of possibilities. The more data the model is trained on, the better it can generate novel content that resembles the original input.\n",
      "\n",
      "Now, let's explore some exciting applications of generative AI:\n",
      "\n",
      "1. **Artistic creations**: Generative AI can create stunning works of art, music, or even entire stories. Imagine an AI artist that can generate paintings, poems, or songs based on a given prompt!\n",
      "2. **Data augmentation**: Generative AI can help improve machine learning models by generating new training data. This can be particularly useful for tasks like image classification, where the model needs to learn from a large variety of images.\n",
      "3. **Fake news detection**: By generating realistic-sounding but false articles or speeches, generative AI can help train fake news detectors. This approach has already shown promise in some research studies.\n",
      "4. **Drug discovery**: Generative AI can assist in discovering new drugs by generating novel molecular structures with potential therapeutic properties.\n",
      "5. **Conversational AI**: Generative AI can be used to create more natural-sounding chatbots or conversational agents, allowing them to respond creatively to user inputs.\n",
      "6. **Robotics and control**: Generative AI can help improve the performance of robotic systems by generating new controller policies that can handle unexpected situations.\n",
      "7. **Gaming**: Imagine a game where the levels or enemies are generated on the fly based on player preferences or behavior! Generative AI can make this possible.\n",
      "8. **Recommendation systems**: By generating personalized recommendations, generative AI can enhance the user experience in various industries like music, movies, or e-commerce.\n",
      "9. ** Fraud detection**: Generative AI can generate synthetic data that mimics real-world fraudulent patterns, helping to train and improve fraud detection models.\n",
      "10. **Scientific simulations**: Generative AI can help create more realistic scientific simulations by generating novel scenarios or environments based on existing data.\n",
      "\n",
      "These are just a few examples of the exciting applications of generative AI. As this technology continues to evolve, we can expect even more innovative use cases to emerge!\n"
     ]
    }
   ],
   "source": [
    "from langchain_core.prompts import ChatPromptTemplate\n",
    "\n",
    "# no env var needed; it talks to your local ollama daemon\n",
    "llm = Ollama(model=\"llama2:7b\")\n",
    "\n",
    "prompt = ChatPromptTemplate.from_messages([\n",
    "    (\"system\", \"You are an expert AI Engineer.\"),\n",
    "    (\"user\", \"{input}\"),\n",
    "])\n",
    "\n",
    "chain = prompt | llm\n",
    "print(chain.invoke({\"input\": \"What is generative AI?\"}))\n"
   ]
  }
 ],
 "metadata": {
  "kernelspec": {
   "display_name": "Python 3",
   "language": "python",
   "name": "python3"
  },
  "language_info": {
   "codemirror_mode": {
    "name": "ipython",
    "version": 3
   },
   "file_extension": ".py",
   "mimetype": "text/x-python",
   "name": "python",
   "nbconvert_exporter": "python",
   "pygments_lexer": "ipython3",
   "version": "3.10.2"
  }
 },
 "nbformat": 4,
 "nbformat_minor": 5
}
